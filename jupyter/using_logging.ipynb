{
 "cells": [
  {
   "cell_type": "code",
   "execution_count": 10,
   "id": "3ccf417a-2e5a-4092-aaff-9ff19488ab28",
   "metadata": {},
   "outputs": [
    {
     "name": "stderr",
     "output_type": "stream",
     "text": [
      "WARNING:ZZZ:warning\n"
     ]
    },
    {
     "name": "stdout",
     "output_type": "stream",
     "text": [
      "True\n",
      "[] ZZZ <RootLogger root (WARNING)>\n",
      "root [<StreamHandler stderr (NOTSET)>]\n",
      "None\n"
     ]
    }
   ],
   "source": [
    "import logging\n",
    "from pyutilities.utils.string_utils import trim2none\n",
    "\n",
    "# logging.warning(\"Warning message!\")\n",
    "\n",
    "logger = logging.getLogger(\"ZZZ\")\n",
    "logger.debug(\"debug\")\n",
    "logger.warning(\"warning\")\n",
    "\n",
    "print(logger.hasHandlers())\n",
    "print(logger.handlers, logger.name, logger.parent)\n",
    "\n",
    "root_logger = logging.getLogger()\n",
    "print(root_logger.name, root_logger.handlers)\n",
    "\n",
    "for handler in root_logger.handlers:\n",
    "    print(handler.get_name())"
   ]
  }
 ],
 "metadata": {
  "kernelspec": {
   "display_name": "pyutilities_project_ipykernel",
   "language": "python",
   "name": "pyutilities_project_ipykernel"
  },
  "language_info": {
   "codemirror_mode": {
    "name": "ipython",
    "version": 3
   },
   "file_extension": ".py",
   "mimetype": "text/x-python",
   "name": "python",
   "nbconvert_exporter": "python",
   "pygments_lexer": "ipython3",
   "version": "3.10.11"
  }
 },
 "nbformat": 4,
 "nbformat_minor": 5
}
